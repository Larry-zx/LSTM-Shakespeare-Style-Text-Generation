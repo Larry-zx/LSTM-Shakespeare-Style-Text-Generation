{
 "cells": [
  {
   "cell_type": "markdown",
   "metadata": {},
   "source": [
    "# LSTM网络实现RNN写作生成\n",
    "\n",
    "**任务要求：利用LSTM网络实现RNN的莎士比亚风格文本写作生成。**  \n",
    "**数据: shakespeare.txt**"
   ]
  },
  {
   "cell_type": "code",
   "execution_count": 3,
   "metadata": {},
   "outputs": [],
   "source": [
    "import torch\n",
    "import torch.nn as nn\n",
    "from torch.autograd import Variable\n",
    "import unidecode\n",
    "import string\n",
    "import random\n",
    "import time\n",
    "import matplotlib.pyplot as plt\n",
    "%matplotlib inline"
   ]
  },
  {
   "cell_type": "code",
   "execution_count": 4,
   "metadata": {},
   "outputs": [
    {
     "name": "stdout",
     "output_type": "stream",
     "text": [
      "Use GPU: False\n"
     ]
    }
   ],
   "source": [
    "use_gpu = True if torch.cuda.is_available() else False\n",
    "print('Use GPU:', use_gpu)"
   ]
  },
  {
   "cell_type": "markdown",
   "metadata": {},
   "source": [
    "## 1. 加载文本数据\n",
    "\n",
    "加载训练文本数据及字符集"
   ]
  },
  {
   "cell_type": "code",
   "execution_count": 5,
   "metadata": {},
   "outputs": [
    {
     "name": "stdout",
     "output_type": "stream",
     "text": [
      "characters num: 100\n",
      "0123456789abcdefghijklmnopqrstuvwxyzABCDEFGHIJKLMNOPQRSTUVWXYZ!\"#$%&'()*+,-./:;<=>?@[\\]^_`{|}~ \t\n",
      "\r",
      "\u000b",
      "\f",
      "\n",
      "file length: 1115394\n"
     ]
    }
   ],
   "source": [
    "all_characters = string.printable\n",
    "n_characters = len(all_characters)\n",
    "print('characters num:', n_characters)\n",
    "print(all_characters)\n",
    "\n",
    "file = unidecode.unidecode(open('./data/shakespeare.txt').read())\n",
    "file_len = len(file)\n",
    "print('file length:', file_len)"
   ]
  },
  {
   "cell_type": "markdown",
   "metadata": {},
   "source": [
    "### 随机文本块"
   ]
  },
  {
   "cell_type": "code",
   "execution_count": 6,
   "metadata": {},
   "outputs": [
    {
     "name": "stdout",
     "output_type": "stream",
     "text": [
      " through with\n",
      "all.\n",
      "\n",
      "ESCALUS:\n",
      "Look you bring me in the names of some six or seven,\n",
      "the most sufficient of your parish.\n",
      "\n",
      "ELBOW:\n",
      "To your worship's house, sir?\n",
      "\n",
      "ESCALUS:\n",
      "To my house. Fare you well.\n",
      "What's o'clock, think you?\n",
      "\n",
      "Justice:\n",
      "Eleven, sir.\n",
      "\n",
      "ESCALUS:\n",
      "I pray you home to dinner with me.\n",
      "\n",
      "Justice:\n",
      "I humbly thank you.\n",
      "\n",
      "ESCALUS:\n",
      "It grieves me for the death of Claudio;\n",
      "But there's no remedy.\n",
      "\n",
      "Justice:\n",
      "Lord Angelo is severe.\n",
      "\n",
      "ESCALUS:\n",
      "It is but needful:\n",
      "Mercy is not itself, that oft looks so;\n",
      "Pardon \n"
     ]
    }
   ],
   "source": [
    "chunk_len = 500\n",
    "#500\n",
    "\n",
    "def random_chunk():\n",
    "    start_index = random.randint(0, file_len - chunk_len)\n",
    "    end_index = start_index + chunk_len + 1\n",
    "    return file[start_index: end_index]\n",
    "\n",
    "print(random_chunk())"
   ]
  },
  {
   "cell_type": "markdown",
   "metadata": {},
   "source": [
    "### 随机数据-标签对"
   ]
  },
  {
   "cell_type": "code",
   "execution_count": 7,
   "metadata": {},
   "outputs": [
    {
     "name": "stdout",
     "output_type": "stream",
     "text": [
      "0123456789abcdefghijklmnopqrstuvwxyzABCDEFGHIJKLMNOPQRSTUVWXYZ!\"#$%&'()*+,-./:;<=>?@[\\]^_`{|}~ \t\n",
      "\r",
      "\u000b",
      "\f",
      "\n",
      "tensor([69, 10, 11, 12, 13, 14, 15, 73, 36, 37, 38, 39, 40, 41, 70, 75])\n"
     ]
    }
   ],
   "source": [
    "def char_tensor(string):\n",
    "    n = len(string)\n",
    "    t = torch.zeros(n).long()\n",
    "    for i in range(n):\n",
    "        t[i] = all_characters.index(string[i])\n",
    "    return Variable(t)\n",
    "print(all_characters)\n",
    "print(char_tensor('(abcdef,ABCDEF).'))"
   ]
  },
  {
   "cell_type": "code",
   "execution_count": 8,
   "metadata": {},
   "outputs": [
    {
     "data": {
      "text/plain": [
       "(tensor([15, 10, 29, 17, 14, 27, 73, 94, 11, 14, 21, 18, 20, 14, 75, 94, 58, 17,\n",
       "         24, 94, 20, 23, 24, 32, 28, 94, 29, 17, 10, 29, 94, 47, 24, 13, 24, 32,\n",
       "         18, 12, 20, 82, 96, 96, 47, 56, 38, 44, 50, 77, 96, 48, 34, 94, 21, 24,\n",
       "         27, 13, 73, 94, 44, 94, 20, 23, 24, 32, 94, 17, 18, 22, 78, 94, 68, 29,\n",
       "         18, 28, 94, 10, 94, 22, 14, 13, 13, 21, 18, 23, 16, 94, 15, 27, 18, 10,\n",
       "         27, 78, 96, 44, 94, 13, 24, 94, 23, 24, 29, 94, 21, 18, 20, 14, 94, 29,\n",
       "         17, 14, 94, 22, 10, 23, 77, 94, 17, 10, 13, 94, 17, 14, 94, 11, 14, 14,\n",
       "         23, 94, 21, 10, 34, 73, 94, 22, 34, 94, 21, 24, 27, 13, 96, 41, 24, 27,\n",
       "         94, 12, 14, 27, 29, 10, 18, 23, 94, 32, 24, 27, 13, 28, 94, 17, 14, 94,\n",
       "         28, 25, 10, 20, 14, 94, 10, 16, 10, 18, 23, 28, 29, 94, 34, 24, 30, 27,\n",
       "         94, 16, 27, 10, 12, 14, 96, 44, 23, 94, 34, 24, 30, 27, 94, 27, 14, 29,\n",
       "         18, 27, 14, 22, 14, 23, 29, 73, 94, 44, 94, 17, 10, 13, 94, 28, 32, 18,\n",
       "         23, 16, 14, 13, 94, 17, 18, 22, 94, 28, 24, 30, 23, 13, 21, 34, 75, 96,\n",
       "         96, 39, 56, 46, 40, 94, 57, 44, 49, 38, 40, 49, 55, 44, 50, 77, 96, 58,\n",
       "         24, 27, 13, 28, 94, 10, 16, 10, 18, 23, 28, 29, 94, 22, 14, 82, 94, 29,\n",
       "         17, 18, 28, 94, 18, 28, 94, 10, 94, 16, 24, 24, 13, 94, 15, 27, 18, 10,\n",
       "         27, 73, 94, 11, 14, 21, 18, 20, 14, 62, 96, 36, 23, 13, 94, 29, 24, 94,\n",
       "         28, 14, 29, 94, 24, 23, 94, 29, 17, 18, 28, 94, 32, 27, 14, 29, 12, 17,\n",
       "         14, 13, 94, 32, 24, 22, 10, 23, 94, 17, 14, 27, 14, 96, 36, 16, 10, 18,\n",
       "         23, 28, 29, 94, 24, 30, 27, 94, 28, 30, 11, 28, 29, 18, 29, 30, 29, 14,\n",
       "         62, 94, 47, 14, 29, 94, 29, 17, 18, 28, 94, 15, 27, 18, 10, 27, 94, 11,\n",
       "         14, 94, 15, 24, 30, 23, 13, 75, 96, 96, 47, 56, 38, 44, 50, 77, 96, 37,\n",
       "         30, 29, 94, 34, 14, 28, 29, 14, 27, 23, 18, 16, 17, 29, 73, 94, 22, 34,\n",
       "         94, 21, 24, 27, 13, 73, 94, 28, 17, 14, 94, 10, 23, 13, 94, 29, 17, 10,\n",
       "         29, 94, 15, 27, 18, 10, 27, 73, 96, 44, 94, 28, 10, 32, 94, 29, 17, 14,\n",
       "         22, 94, 10, 29, 94, 29, 17, 14, 94, 25, 27, 18, 28, 24, 23, 77, 94, 10,\n",
       "         94, 28, 10, 30, 12, 34, 94, 15, 27, 18, 10, 27, 73, 96, 36, 94, 31, 14,\n",
       "         27, 34, 94, 28, 12, 30, 27, 31, 34, 94, 15, 14, 21, 21]),\n",
       " tensor([10, 29, 17, 14, 27, 73, 94, 11, 14, 21, 18, 20, 14, 75, 94, 58, 17, 24,\n",
       "         94, 20, 23, 24, 32, 28, 94, 29, 17, 10, 29, 94, 47, 24, 13, 24, 32, 18,\n",
       "         12, 20, 82, 96, 96, 47, 56, 38, 44, 50, 77, 96, 48, 34, 94, 21, 24, 27,\n",
       "         13, 73, 94, 44, 94, 20, 23, 24, 32, 94, 17, 18, 22, 78, 94, 68, 29, 18,\n",
       "         28, 94, 10, 94, 22, 14, 13, 13, 21, 18, 23, 16, 94, 15, 27, 18, 10, 27,\n",
       "         78, 96, 44, 94, 13, 24, 94, 23, 24, 29, 94, 21, 18, 20, 14, 94, 29, 17,\n",
       "         14, 94, 22, 10, 23, 77, 94, 17, 10, 13, 94, 17, 14, 94, 11, 14, 14, 23,\n",
       "         94, 21, 10, 34, 73, 94, 22, 34, 94, 21, 24, 27, 13, 96, 41, 24, 27, 94,\n",
       "         12, 14, 27, 29, 10, 18, 23, 94, 32, 24, 27, 13, 28, 94, 17, 14, 94, 28,\n",
       "         25, 10, 20, 14, 94, 10, 16, 10, 18, 23, 28, 29, 94, 34, 24, 30, 27, 94,\n",
       "         16, 27, 10, 12, 14, 96, 44, 23, 94, 34, 24, 30, 27, 94, 27, 14, 29, 18,\n",
       "         27, 14, 22, 14, 23, 29, 73, 94, 44, 94, 17, 10, 13, 94, 28, 32, 18, 23,\n",
       "         16, 14, 13, 94, 17, 18, 22, 94, 28, 24, 30, 23, 13, 21, 34, 75, 96, 96,\n",
       "         39, 56, 46, 40, 94, 57, 44, 49, 38, 40, 49, 55, 44, 50, 77, 96, 58, 24,\n",
       "         27, 13, 28, 94, 10, 16, 10, 18, 23, 28, 29, 94, 22, 14, 82, 94, 29, 17,\n",
       "         18, 28, 94, 18, 28, 94, 10, 94, 16, 24, 24, 13, 94, 15, 27, 18, 10, 27,\n",
       "         73, 94, 11, 14, 21, 18, 20, 14, 62, 96, 36, 23, 13, 94, 29, 24, 94, 28,\n",
       "         14, 29, 94, 24, 23, 94, 29, 17, 18, 28, 94, 32, 27, 14, 29, 12, 17, 14,\n",
       "         13, 94, 32, 24, 22, 10, 23, 94, 17, 14, 27, 14, 96, 36, 16, 10, 18, 23,\n",
       "         28, 29, 94, 24, 30, 27, 94, 28, 30, 11, 28, 29, 18, 29, 30, 29, 14, 62,\n",
       "         94, 47, 14, 29, 94, 29, 17, 18, 28, 94, 15, 27, 18, 10, 27, 94, 11, 14,\n",
       "         94, 15, 24, 30, 23, 13, 75, 96, 96, 47, 56, 38, 44, 50, 77, 96, 37, 30,\n",
       "         29, 94, 34, 14, 28, 29, 14, 27, 23, 18, 16, 17, 29, 73, 94, 22, 34, 94,\n",
       "         21, 24, 27, 13, 73, 94, 28, 17, 14, 94, 10, 23, 13, 94, 29, 17, 10, 29,\n",
       "         94, 15, 27, 18, 10, 27, 73, 96, 44, 94, 28, 10, 32, 94, 29, 17, 14, 22,\n",
       "         94, 10, 29, 94, 29, 17, 14, 94, 25, 27, 18, 28, 24, 23, 77, 94, 10, 94,\n",
       "         28, 10, 30, 12, 34, 94, 15, 27, 18, 10, 27, 73, 96, 36, 94, 31, 14, 27,\n",
       "         34, 94, 28, 12, 30, 27, 31, 34, 94, 15, 14, 21, 21, 24]))"
      ]
     },
     "execution_count": 8,
     "metadata": {},
     "output_type": "execute_result"
    }
   ],
   "source": [
    "def random_training_set():\n",
    "    chunk = random_chunk()\n",
    "    inputs = char_tensor(chunk[:-1])\n",
    "    targets = char_tensor(chunk[1:]) #每个字符到后一个字符\n",
    "    return inputs, targets\n",
    "\n",
    "random_training_set()"
   ]
  },
  {
   "cell_type": "markdown",
   "metadata": {},
   "source": [
    "## 2. RNN模型\n",
    "\n",
    "利用PyTorch构建RNN模型类，内部包括Embedding层、LSTM、FC层"
   ]
  },
  {
   "cell_type": "code",
   "execution_count": 9,
   "metadata": {},
   "outputs": [],
   "source": [
    "''' 请在下方编写RNN模型类 '''\n",
    "\n",
    "class RNN(nn.Module):\n",
    "    def __init__(self, input_size, hidden_size, output_size, num_layers=1):\n",
    "        super(RNN, self).__init__()\n",
    "        \n",
    "        self.input_size=input_size\n",
    "        self.hidden_size=hidden_size\n",
    "        self.output_size=output_size\n",
    "        self.num_layers=num_layers\n",
    "        \n",
    "        self.embedding = nn.Embedding(num_embeddings=100, embedding_dim=input_size)\n",
    "        self.lstm = nn.LSTM(input_size=input_size, hidden_size=hidden_size)\n",
    "        self.fc = nn.Linear(in_features=hidden_size, out_features=output_size)\n",
    "        \n",
    "    def forward(self, inputs, hidden):\n",
    "        \n",
    "        o1=self.embedding(inputs.view(1,-1)) #转为2维[[]] 经过embedding后变成三维[[[]]]\n",
    "        o2,(h,c)=self.lstm(o1,hidden) #返回值是 output , (h,c)  \n",
    "        outputs=self.fc(o2) \n",
    "        hidden=(h,c)\n",
    "        \n",
    "        return outputs, hidden\n",
    "    \n",
    "    def init_hidden(self):\n",
    "        h0= Variable(torch.zeros(self.num_layers,1,self.hidden_size))#(1,1,100)\n",
    "        c0= Variable(torch.zeros(self.num_layers,1,self.hidden_size))\n",
    "        return h0, c0"
   ]
  },
  {
   "cell_type": "markdown",
   "metadata": {},
   "source": [
    "## 3. 训练函数"
   ]
  },
  {
   "cell_type": "code",
   "execution_count": 10,
   "metadata": {},
   "outputs": [],
   "source": [
    "def train(inputs, target):\n",
    "    h, c = rnn.init_hidden()\n",
    "    if use_gpu:\n",
    "        inputs = inputs.cuda()\n",
    "        target = target.cuda()\n",
    "        h, c = h.cuda(), c.cuda()\n",
    "    hidden = (h, c)\n",
    "    \n",
    "    loss = 0\n",
    "    for i in range(len(inputs)):\n",
    "        ''' 请在下方编写rnn模型输出，及loss累加代码'''\n",
    "        output,hidden=rnn.forward(inputs[i],hidden)\n",
    "\n",
    "        loss+=criterion(output.view(1,100),target[i].view(1))\n",
    "\n",
    "    optimizer.zero_grad()\n",
    "    loss.backward()\n",
    "    optimizer.step()\n",
    "    \n",
    "    return loss.data.item()/len(inputs)"
   ]
  },
  {
   "cell_type": "markdown",
   "metadata": {},
   "source": [
    "## 4. 文本生成测试函数"
   ]
  },
  {
   "cell_type": "code",
   "execution_count": 11,
   "metadata": {},
   "outputs": [],
   "source": [
    "def test(prime_str='A', predict_len=100, temperature=0.8):\n",
    "    h, c = rnn.init_hidden()\n",
    "    prime_input = char_tensor(prime_str)#'Th'\n",
    "\n",
    "    if use_gpu:\n",
    "        h, c = h.cuda(), c.cuda()\n",
    "        prime_input = prime_input.cuda()\n",
    "    predicted = prime_str\n",
    "    \n",
    "    for i in range(len(prime_str)-1):\n",
    "        _, (h, c) = rnn(prime_input[i], (h, c))\n",
    "    inputs = prime_input[-1]\n",
    "\n",
    "    for p in range(predict_len):\n",
    "        if use_gpu:\n",
    "            inputs = inputs.cuda()\n",
    "        output, (h, c) = rnn(inputs, (h, c))\n",
    "        output_dist = output.data.view(-1).div(temperature).exp()\n",
    "        top_i = torch.multinomial(output_dist, 1)[0]\n",
    "\n",
    "        predicted_char = all_characters[top_i]\n",
    "        predicted += predicted_char\n",
    "        inputs = char_tensor(predicted_char)\n",
    "    \n",
    "    return predicted"
   ]
  },
  {
   "cell_type": "markdown",
   "metadata": {},
   "source": [
    "## 5. 模型训练"
   ]
  },
  {
   "cell_type": "markdown",
   "metadata": {},
   "source": [
    "#### 超参数"
   ]
  },
  {
   "cell_type": "code",
   "execution_count": 12,
   "metadata": {},
   "outputs": [],
   "source": [
    "''' 请自行设定相关参数 '''\n",
    "epoch_num = 2000  # 1000~10000\n",
    "print_every = 100\n",
    "plot_every = 10\n",
    "hidden_size = 100\n",
    "num_layers = 1\n",
    "lr = 0.01"
   ]
  },
  {
   "cell_type": "markdown",
   "metadata": {},
   "source": [
    "#### 模型、优化器、损失函数"
   ]
  },
  {
   "cell_type": "code",
   "execution_count": 13,
   "metadata": {},
   "outputs": [
    {
     "name": "stdout",
     "output_type": "stream",
     "text": [
      "RNN(\n",
      "  (embedding): Embedding(100, 100)\n",
      "  (lstm): LSTM(100, 100)\n",
      "  (fc): Linear(in_features=100, out_features=100, bias=True)\n",
      ")\n"
     ]
    }
   ],
   "source": [
    "# RNN模型\n",
    "rnn = RNN(n_characters, hidden_size, n_characters, num_layers)\n",
    "if use_gpu:\n",
    "    rnn = rnn.cuda()\n",
    "print(rnn)"
   ]
  },
  {
   "cell_type": "code",
   "execution_count": 14,
   "metadata": {},
   "outputs": [
    {
     "name": "stdout",
     "output_type": "stream",
     "text": [
      "Adam (\n",
      "Parameter Group 0\n",
      "    amsgrad: False\n",
      "    betas: (0.9, 0.999)\n",
      "    eps: 1e-08\n",
      "    lr: 0.01\n",
      "    weight_decay: 0\n",
      ")\n",
      "CrossEntropyLoss()\n"
     ]
    }
   ],
   "source": [
    "# 优化器\n",
    "''' 请在下方编写Adam优化器定义的代码 '''\n",
    "optimizer = torch.optim.Adam(rnn.parameters(),lr=lr)\n",
    "print(optimizer)\n",
    "\n",
    "# 损失函数\n",
    "''' 请在下方编写交叉熵损失函数定义的代码 '''\n",
    "criterion = nn.CrossEntropyLoss()\n",
    "print(criterion)"
   ]
  },
  {
   "cell_type": "markdown",
   "metadata": {},
   "source": [
    "#### 模型训练"
   ]
  },
  {
   "cell_type": "code",
   "execution_count": 15,
   "metadata": {},
   "outputs": [
    {
     "name": "stdout",
     "output_type": "stream",
     "text": [
      "[Time: 21s  Epoch: 100 (5%)  Loss: 2.3108]\n",
      "Thus wen son of\n",
      "To werly at but our you come there that bere it hand ang al is hitherme tins and herad his hinons, him cime a buth or buss yeam, oug sher.\n",
      "\n",
      "OLIO:\n",
      ":ou who, and orn, mand preathen.\n",
      "\n",
      "GLUS:\n",
      " \n",
      "\n",
      "[Time: 43s  Epoch: 200 (10%)  Loss: 2.0120]\n",
      "Thou me lord mads matgere.\n",
      "\n",
      "DUSS:\n",
      "Bo by of whome Enmes yout, all were in a mowser as for\n",
      "ent a Yenrt wermalf een's it and you comer theid they mives bearting ay, man to to me heary and for golle my king \n",
      "\n",
      "[Time: 64s  Epoch: 300 (15%)  Loss: 2.0550]\n",
      "Th:\n",
      "He me thou pate ance, sate I lanted,\n",
      "Thou leak is hing oft not mity and liocy.\n",
      "\n",
      "ROMIS:\n",
      "\n",
      "PETRUMIO:\n",
      "Whe mans: the mod, aut suckme, at his se the net if brome wit as that frice that the not youd spore  \n",
      "\n",
      "[Time: 85s  Epoch: 400 (20%)  Loss: 1.9755]\n",
      "Thr all wea, hate caneded have dears, then me love and of may, not mineate what thour onsureather wake to his vareade\n",
      "And day appentlough love menan the a for trays, to on your tack not sweak reting les \n",
      "\n",
      "[Time: 107s  Epoch: 500 (25%)  Loss: 1.9836]\n",
      "The like on where put wominks with us oft much stanno a king the garly they bad thears spark are as that be dears my a wordient is son queice and a reage, to me! nien to gans in deans and frone.\n",
      "\n",
      "CLINGU \n",
      "\n",
      "[Time: 128s  Epoch: 600 (30%)  Loss: 1.7998]\n",
      "That dety of inall,\n",
      "That stais horthered the grome thich shalls of he dem. Creampoor brighter. God rever: of all hill king by thou will that thour grace so hath dranct a casence?\n",
      "\n",
      "KATHARINA:\n",
      "Combie own  \n",
      "\n",
      "[Time: 148s  Epoch: 700 (35%)  Loss: 1.7743]\n",
      "The vile's world.\n",
      "\n",
      "CORIOHENS:\n",
      "I men flow make:\n",
      "I hen.\n",
      "\n",
      "CORIOLIO:\n",
      "Hith a, so might a there are liver that now sir vilual the rood ax the cands as the read\n",
      "That ableminh the the king thim, the unthoures a \n",
      "\n",
      "[Time: 170s  Epoch: 800 (40%)  Loss: 1.7192]\n",
      "That did to hame\n",
      "Unget is gaied for priest with well thou have my fallow combess of your not myss with lead doth wond, in three net beriesse weran but he conforse a fall reant agampords batter\n",
      "Muck'd me \n",
      "\n",
      "[Time: 190s  Epoch: 900 (45%)  Loss: 1.7679]\n",
      "This lose age,\n",
      "And do like both me the shall and which roch.\n",
      "\n",
      "ELO:\n",
      "So restrown rose or morle those foul winst'st, by lifess at, the for friul have a wis moud that a worgh I'll you sofessured and I digha \n",
      "\n",
      "[Time: 211s  Epoch: 1000 (50%)  Loss: 1.7884]\n",
      "That the least atter you that be to it you Bother true! fronce the lord look breen so that graster, such\n",
      "confealts;\n",
      "The souch this post moke have the blone hil, so he be sleman:\n",
      "For minds have\n",
      "To may to \n",
      "\n",
      "[Time: 232s  Epoch: 1100 (55%)  Loss: 1.6875]\n",
      "Thicre our me his vould me we drumper opens it it and like is her I lave piitherman:\n",
      "And fries for to dissing dare your his not cmison defore.\n",
      "\n",
      "Serest this pard on at madment Fhand me the marriff and th \n",
      "\n",
      "[Time: 253s  Epoch: 1200 (60%)  Loss: 1.6649]\n",
      "The have of the earding and my have and hand, and Jurest at the uparst with burn blooks' and no have me he do thee chere tame me an:\n",
      "O! that with spence thou say the we have to at down bet\n",
      "epons or to t \n",
      "\n",
      "[Time: 275s  Epoch: 1300 (65%)  Loss: 1.7023]\n",
      "Thy consery, in thanher:\n",
      "Why not I accher, any heart; you was and shturly\n",
      "Yeitther is she pard?\n",
      "\n",
      "ELINIUS:\n",
      "And par these his have insure both,\n",
      "Angent: grace some:\n",
      "To their I diming,\n",
      "The specther queenite \n",
      "\n",
      "[Time: 295s  Epoch: 1400 (70%)  Loss: 1.6922]\n",
      "Thath that, me all your commonds you my out, and sink, and on the doonirompout in own falticer:\n",
      "But with to fare;\n",
      "And conculd to diserst out warster,\n",
      "Than, with of excamences, the forthon.\n",
      "\n",
      "MPONIE:\n",
      "For  \n",
      "\n",
      "[Time: 316s  Epoch: 1500 (75%)  Loss: 2.0014]\n",
      "Than this him our we tove not From serves of out my this proves.\n",
      "\n",
      "First: you days the mind and my life me the devence\n",
      "That of ridist.\n",
      "And my price thinks.\n",
      "\n",
      "ELICUS:\n",
      "A be most\n",
      "And my lords,\n",
      "Think my trume \n",
      "\n",
      "[Time: 338s  Epoch: 1600 (80%)  Loss: 1.7847]\n",
      "Thus That will prove some thee I protule the penet, all the slorrow,\n",
      "Sect may life mast to hose be it moreful day that the firs.\n",
      "\n",
      "GATHAMEOLIO:\n",
      "And stran on that this kins their penater. Whith honow marr \n",
      "\n",
      "[Time: 359s  Epoch: 1700 (85%)  Loss: 1.7658]\n",
      "Thright grace, ascarry and masco.\n",
      "Say last.\n",
      "\n",
      "MENENIUS:\n",
      "The was more;\n",
      "How better wrones Gance and one,'\n",
      "Mart to wis tongue, when we not cantry ever sir then my most struets in and poldent a thy graint's  \n",
      "\n",
      "[Time: 380s  Epoch: 1800 (90%)  Loss: 1.5906]\n",
      "Thing as him have not it his to' good, hark his never look the guess, not him allowns how with belack.\n",
      "Is faiced it this frien.\n",
      "\n",
      "GRUMIOLA:\n",
      "No was him here, the longroward as his fall,\n",
      "And bellow, and se \n",
      "\n",
      "[Time: 401s  Epoch: 1900 (95%)  Loss: 1.9143]\n",
      "The father, sitch say eyes thou some him from and Tatusturet and their would a danttings that make plain,\n",
      "Vingnizen:\n",
      "When again nothe, on was good a penty see me\n",
      "Frann and artern'd\n",
      "Then it would the fre \n",
      "\n",
      "[Time: 422s  Epoch: 2000 (100%)  Loss: 1.8959]\n",
      "Thould hath therefore of wounds no me in have have not\n",
      "The reviness; the pent as I tell not for them and the pity\n",
      "That the give the can with with hore in hing throw thro me, for plain, rather\n",
      "Your unsen \n",
      "\n"
     ]
    }
   ],
   "source": [
    "time_start = time.time()\n",
    "evaluate = True  # 可设置为False，训练过程中不评估\n",
    "loss_list = []\n",
    "loss_avg = 0\n",
    "\n",
    "for epoch in range(1, epoch_num+1):\n",
    "    inputs, targets = random_training_set()\n",
    "    loss = train(inputs, targets)\n",
    "    loss_avg += loss\n",
    "    \n",
    "    if epoch % print_every == 0:\n",
    "        print('[Time: %ds  Epoch: %d (%d%%)  Loss: %.4f]'%(int(time.time()-time_start), epoch, epoch/epoch_num*100, loss))\n",
    "        if evaluate:\n",
    "            pred_text = test('Th', 200)\n",
    "            print(pred_text, '\\n')\n",
    "        \n",
    "    if epoch % plot_every == 0:\n",
    "        loss_list.append(loss_avg/plot_every)\n",
    "        loss_avg = 0\n",
    "# #保存模型\n",
    "# torch.load(rnn,'rnn.pkl')"
   ]
  },
  {
   "cell_type": "markdown",
   "metadata": {},
   "source": [
    "## 6. 训练Loss曲线\n",
    "\n",
    "绘制训练过程中的Loss曲线"
   ]
  },
  {
   "cell_type": "code",
   "execution_count": 16,
   "metadata": {},
   "outputs": [
    {
     "data": {
      "image/png": "[encoded data removed]",
      "text/plain": [
       "<Figure size 864x504 with 1 Axes>"
      ]
     },
     "metadata": {
      "needs_background": "light"
     },
     "output_type": "display_data"
    }
   ],
   "source": [
    "plt.figure(figsize=(12, 7))\n",
    "plt.plot(loss_list)\n",
    "plt.title('Train Loss', fontsize=18)\n",
    "plt.xlabel('Epoch', fontsize=16)\n",
    "plt.ylabel('Loss', fontsize=16)\n",
    "plt.xticks(fontsize=12)\n",
    "plt.yticks(fontsize=12)\n",
    "plt.grid()"
   ]
  },
  {
   "cell_type": "markdown",
   "metadata": {},
   "source": [
    "## 7. 测试\n",
    "\n",
    "自定义初始字符和文本长度以生成文本"
   ]
  },
  {
   "cell_type": "code",
   "execution_count": 17,
   "metadata": {},
   "outputs": [
    {
     "name": "stdout",
     "output_type": "stream",
     "text": [
      "My Citizen thing\n",
      "how cause he corchape the plored exe a beas in these with make,\n",
      "And be got to tell father the now,\n",
      "The flies have and slease the conspace this to like, but proce going in bettith the witermenes rook.\n",
      "Who dreak I words they say the depoone and seed\n",
      "Thou dednable, the death?\n",
      "GONZALO:\n",
      "Nother to the cellight, you perap,\n",
      "And in vatiend that have prorlone withs swasteng our tears:\n",
      "Come, in of was time to the did vace:\n",
      "The dear pe think this desent give the desent roy me in thou to them;\n",
      "Mand the stunds, pispelf;\n",
      "And their loven of the mane fearful a was the this have raped of whole? Gday the to try specoor,\n",
      "And do preat to news.\n",
      "\n",
      "BRUTUS:\n",
      "Why, I say to my lords, my satten be are be the princes,\n",
      "Their gooshath is soness is can, by so calown,\n",
      "My god his pering the worson the worse?\n",
      "\n",
      "MENENIUS:\n",
      "Firson hyselfives how the spake these be plarity way of the plainting\n",
      "The two here quit and do appand\n",
      "That the son: man, and they paring to leness.\n",
      "\n",
      "BRUTUS:\n",
      "And face: pole of here lesing for\n"
     ]
    }
   ],
   "source": [
    "test_text = test('My', 1000, 0.8)\n",
    "print(test_text)"
   ]
  },
  {
   "cell_type": "code",
   "execution_count": 18,
   "metadata": {},
   "outputs": [
    {
     "name": "stdout",
     "output_type": "stream",
     "text": [
      "To be or not to be fares by the have it\n",
      "The done shall effect this for then he death the siff this we was the conglatteares Lord suh in more the tame though me to princes:\n",
      "Your so was ben of I we it not do the pray do Turn with the royor my it tall of herent your mark'd a conson upon the chair from nor fail surds to the person with the plores, mine\n",
      "The govench things sucts!\n",
      "That of the dighour it be since\n",
      "And the poor copleas: king: were reparst and not death,\n",
      "\n",
      "AUTOKE:\n",
      "He so safe lovenge sues and to the rasse;\n",
      "The proce and done the not\n",
      "The be me bear till the fast Clive I many to thee consue. Why flese.\n",
      "\n",
      "TRANION:\n",
      "It the protes love;\n",
      "The man; not your good mine person that do a cound be not\n",
      "the unterm'd hath kenge of meanat,\n",
      "Where mine to beater of did not for thing to me a frong things, and sir, they she water we then to comite their hath her hath their persed spirely say hers?\n",
      "\n",
      "KING EDWARD IV:\n",
      "Nexped as it me hast of my a honess morace better\n",
      "too Mardself, so the pity\n",
      "The come is you know of the true,\n"
     ]
    }
   ],
   "source": [
    "test_text = test('To be or not to be', 1000, 0.8)\n",
    "print(test_text)"
   ]
  },
  {
   "cell_type": "code",
   "execution_count": null,
   "metadata": {},
   "outputs": [],
   "source": []
  }
 ],
 "metadata": {
  "kernelspec": {
   "display_name": "Python 3",
   "language": "python",
   "name": "python3"
  },
  "language_info": {
   "codemirror_mode": {
    "name": "ipython",
    "version": 3
   },
   "file_extension": ".py",
   "mimetype": "text/x-python",
   "name": "python",
   "nbconvert_exporter": "python",
   "pygments_lexer": "ipython3",
   "version": "3.8.3"
  },
  "toc": {
   "base_numbering": 1,
   "nav_menu": {},
   "number_sections": true,
   "sideBar": true,
   "skip_h1_title": false,
   "title_cell": "Table of Contents",
   "title_sidebar": "Contents",
   "toc_cell": false,
   "toc_position": {},
   "toc_section_display": true,
   "toc_window_display": false
  }
 },
 "nbformat": 4,
 "nbformat_minor": 2
}
